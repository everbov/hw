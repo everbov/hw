{
 "cells": [
  {
   "cell_type": "code",
   "execution_count": 1,
   "metadata": {},
   "outputs": [
    {
     "name": "stderr",
     "output_type": "stream",
     "text": [
      "Using TensorFlow backend.\n"
     ]
    }
   ],
   "source": [
    "%matplotlib inline\n",
    "import cv2\n",
    "import keras\n",
    "import numpy as np\n",
    "import matplotlib.pyplot as plt"
   ]
  },
  {
   "cell_type": "markdown",
   "metadata": {},
   "source": [
    "! pip install tensorflow"
   ]
  },
  {
   "cell_type": "code",
   "execution_count": 2,
   "metadata": {
    "collapsed": true
   },
   "outputs": [],
   "source": [
    "train = np.loadtxt('../002/data/digit/train.csv', delimiter=',', skiprows=1)\n",
    "test = np.loadtxt('../002/data/digit/test.csv', delimiter=',', skiprows=1)"
   ]
  },
  {
   "cell_type": "code",
   "execution_count": 3,
   "metadata": {
    "collapsed": true
   },
   "outputs": [],
   "source": [
    "# сохраняем разметку в отдельную переменную\n",
    "train_label = train[:, 0]\n",
    "\n",
    "# приводим размерность к удобному для обаботки виду\n",
    "# добавляем размерность канала\n",
    "train_img = np.resize(train[:, 1:], (train.shape[0], 28, 28, 1))\n",
    "test_img = np.resize(test, (test.shape[0], 28, 28, 1))"
   ]
  },
  {
   "cell_type": "markdown",
   "metadata": {},
   "source": [
    "## Визуализируем исходные данные"
   ]
  },
  {
   "cell_type": "code",
   "execution_count": 4,
   "metadata": {},
   "outputs": [
    {
     "data": {
      "image/png": "[encoded data removed]",
      "text/plain": [
       "<matplotlib.figure.Figure at 0x1a27ff10d30>"
      ]
     },
     "metadata": {},
     "output_type": "display_data"
    }
   ],
   "source": [
    "fig = plt.figure(figsize=(20, 10))\n",
    "for i, img in enumerate(train_img[0:5, :], 1):\n",
    "    subplot = fig.add_subplot(1, 7, i)\n",
    "    plt.imshow(img[:,:,0], cmap='gray');\n",
    "    subplot.set_title('%s' % train_label[i - 1]);"
   ]
  },
  {
   "cell_type": "markdown",
   "metadata": {},
   "source": [
    "## Разбиваем выборку на обучение и валидацию"
   ]
  },
  {
   "cell_type": "code",
   "execution_count": 5,
   "metadata": {
    "collapsed": true
   },
   "outputs": [],
   "source": [
    "from sklearn.model_selection import train_test_split\n",
    "y_train, y_val, x_train, x_val = train_test_split(\n",
    "    train_label, train_img, test_size=0.2, random_state=42)"
   ]
  },
  {
   "cell_type": "markdown",
   "metadata": {},
   "source": [
    "## Собираем сверточную сеть для обучения"
   ]
  },
  {
   "cell_type": "code",
   "execution_count": 6,
   "metadata": {
    "collapsed": true
   },
   "outputs": [],
   "source": [
    "model = keras.models.Sequential()\n",
    "\n",
    "model.add(keras.layers.Conv2D(6, \n",
    "                              kernel_size=(5, 5), \n",
    "                              padding='same', \n",
    "                              activation='relu', \n",
    "                              input_shape=x_train.shape[1:]))\n",
    "\n",
    "model.add(keras.layers.MaxPool2D(pool_size=(2, 2), padding='valid'))\n",
    "\n",
    "\n",
    "model.add(keras.layers.Conv2D(16, \n",
    "                              kernel_size=(5, 5),\n",
    "                              padding='valid',\n",
    "                              activation='relu'))\n",
    "\n",
    "model.add(keras.layers.MaxPool2D(pool_size=(2, 2), padding='valid'))\n",
    "\n",
    "model.add(keras.layers.Flatten())\n",
    "\n",
    "model.add(keras.layers.Dense(10, activation='softmax'))\n",
    "\n",
    "model.compile(optimizer='adam',\n",
    "              loss='categorical_crossentropy',\n",
    "              metrics=['accuracy'])"
   ]
  },
  {
   "cell_type": "markdown",
   "metadata": {},
   "source": [
    "## Выводим информацию о модели"
   ]
  },
  {
   "cell_type": "code",
   "execution_count": 7,
   "metadata": {},
   "outputs": [
    {
     "name": "stdout",
     "output_type": "stream",
     "text": [
      "_________________________________________________________________\n",
      "Layer (type)                 Output Shape              Param #   \n",
      "=================================================================\n",
      "conv2d_1 (Conv2D)            (None, 28, 28, 6)         156       \n",
      "_________________________________________________________________\n",
      "max_pooling2d_1 (MaxPooling2 (None, 14, 14, 6)         0         \n",
      "_________________________________________________________________\n",
      "conv2d_2 (Conv2D)            (None, 10, 10, 16)        2416      \n",
      "_________________________________________________________________\n",
      "max_pooling2d_2 (MaxPooling2 (None, 5, 5, 16)          0         \n",
      "_________________________________________________________________\n",
      "flatten_1 (Flatten)          (None, 400)               0         \n",
      "_________________________________________________________________\n",
      "dense_1 (Dense)              (None, 10)                4010      \n",
      "=================================================================\n",
      "Total params: 6,582\n",
      "Trainable params: 6,582\n",
      "Non-trainable params: 0\n",
      "_________________________________________________________________\n"
     ]
    }
   ],
   "source": [
    "model.summary()"
   ]
  },
  {
   "cell_type": "markdown",
   "metadata": {},
   "source": [
    "## One hot encoding разметки"
   ]
  },
  {
   "cell_type": "code",
   "execution_count": 8,
   "metadata": {
    "collapsed": true
   },
   "outputs": [],
   "source": [
    "from keras.utils import np_utils\n",
    "y_train_labels = np_utils.to_categorical(y_train)"
   ]
  },
  {
   "cell_type": "markdown",
   "metadata": {},
   "source": [
    "## Запускаем обучение"
   ]
  },
  {
   "cell_type": "code",
   "execution_count": 17,
   "metadata": {},
   "outputs": [
    {
     "name": "stdout",
     "output_type": "stream",
     "text": [
      "Train on 26880 samples, validate on 6720 samples\n",
      "Epoch 1/20\n",
      "26880/26880 [==============================] - 24s - loss: 0.0174 - acc: 0.9942 - val_loss: 0.1103 - val_acc: 0.9796\n",
      "Epoch 2/20\n",
      "26880/26880 [==============================] - 24s - loss: 0.0098 - acc: 0.9965 - val_loss: 0.1052 - val_acc: 0.9792\n",
      "Epoch 3/20\n",
      "26880/26880 [==============================] - 24s - loss: 0.0067 - acc: 0.9980 - val_loss: 0.1157 - val_acc: 0.9801\n",
      "Epoch 4/20\n",
      "26880/26880 [==============================] - 24s - loss: 0.0071 - acc: 0.9977 - val_loss: 0.1316 - val_acc: 0.9781\n",
      "Epoch 5/20\n",
      "26880/26880 [==============================] - 26s - loss: 0.0166 - acc: 0.9940 - val_loss: 0.1299 - val_acc: 0.9759\n",
      "Epoch 6/20\n",
      "26880/26880 [==============================] - 24s - loss: 0.0178 - acc: 0.9939 - val_loss: 0.1316 - val_acc: 0.9792\n",
      "Epoch 7/20\n",
      "26880/26880 [==============================] - 23s - loss: 0.0215 - acc: 0.9935 - val_loss: 0.1338 - val_acc: 0.9790\n",
      "Epoch 8/20\n",
      "26880/26880 [==============================] - 24s - loss: 0.0177 - acc: 0.9944 - val_loss: 0.1285 - val_acc: 0.9798\n",
      "Epoch 9/20\n",
      "26880/26880 [==============================] - 25s - loss: 0.0137 - acc: 0.9957 - val_loss: 0.1286 - val_acc: 0.9798\n",
      "Epoch 10/20\n",
      "26880/26880 [==============================] - 23s - loss: 0.0110 - acc: 0.9967 - val_loss: 0.1530 - val_acc: 0.9781\n",
      "Epoch 11/20\n",
      "26880/26880 [==============================] - 24s - loss: 0.0103 - acc: 0.9968 - val_loss: 0.1565 - val_acc: 0.9778\n",
      "Epoch 12/20\n",
      "26880/26880 [==============================] - 27s - loss: 0.0210 - acc: 0.9943 - val_loss: 0.1575 - val_acc: 0.9789\n",
      "Epoch 13/20\n",
      "26880/26880 [==============================] - 26s - loss: 0.0203 - acc: 0.9947 - val_loss: 0.1617 - val_acc: 0.9786\n",
      "Epoch 14/20\n",
      "26880/26880 [==============================] - 25s - loss: 0.0125 - acc: 0.9961 - val_loss: 0.1473 - val_acc: 0.9808\n",
      "Epoch 15/20\n",
      "26880/26880 [==============================] - 26s - loss: 0.0080 - acc: 0.9978 - val_loss: 0.1635 - val_acc: 0.9793\n",
      "Epoch 16/20\n",
      "26880/26880 [==============================] - 25s - loss: 0.0193 - acc: 0.9955 - val_loss: 0.1940 - val_acc: 0.9760\n",
      "Epoch 17/20\n",
      "26880/26880 [==============================] - 26s - loss: 0.0185 - acc: 0.9951 - val_loss: 0.1524 - val_acc: 0.9784\n",
      "Epoch 18/20\n",
      "26880/26880 [==============================] - 27s - loss: 0.0129 - acc: 0.9960 - val_loss: 0.1567 - val_acc: 0.9804\n",
      "Epoch 19/20\n",
      "26880/26880 [==============================] - 26s - loss: 0.0051 - acc: 0.9983 - val_loss: 0.1719 - val_acc: 0.9799\n",
      "Epoch 20/20\n",
      "26880/26880 [==============================] - 26s - loss: 0.0147 - acc: 0.9963 - val_loss: 0.1689 - val_acc: 0.9808\n"
     ]
    },
    {
     "data": {
      "text/plain": [
       "<keras.callbacks.History at 0x1a2024d2b70>"
      ]
     },
     "execution_count": 17,
     "metadata": {},
     "output_type": "execute_result"
    }
   ],
   "source": [
    "model.fit(x_train, y_train_labels, batch_size=64, epochs=20, validation_split=0.2)"
   ]
  },
  {
   "cell_type": "markdown",
   "metadata": {},
   "source": [
    "## Предсказываем класс объекта"
   ]
  },
  {
   "cell_type": "code",
   "execution_count": 18,
   "metadata": {},
   "outputs": [
    {
     "name": "stdout",
     "output_type": "stream",
     "text": [
      "8384/8400 [============================>.] - ETA: 0s"
     ]
    }
   ],
   "source": [
    "pred_val = model.predict_classes(x_val)"
   ]
  },
  {
   "cell_type": "markdown",
   "metadata": {},
   "source": [
    "## Оцениваем качество решение на валидационной выборке"
   ]
  },
  {
   "cell_type": "code",
   "execution_count": 19,
   "metadata": {},
   "outputs": [
    {
     "name": "stdout",
     "output_type": "stream",
     "text": [
      "Accuracy: 0.980119047619\n"
     ]
    }
   ],
   "source": [
    "from sklearn.metrics import accuracy_score\n",
    "print('Accuracy: %s' % accuracy_score(y_val, pred_val))"
   ]
  },
  {
   "cell_type": "code",
   "execution_count": 20,
   "metadata": {},
   "outputs": [
    {
     "name": "stdout",
     "output_type": "stream",
     "text": [
      "             precision    recall  f1-score   support\n",
      "\n",
      "        0.0       0.98      0.99      0.98       816\n",
      "        1.0       0.99      0.98      0.99       909\n",
      "        2.0       0.98      0.98      0.98       846\n",
      "        3.0       0.98      0.98      0.98       937\n",
      "        4.0       0.98      0.98      0.98       839\n",
      "        5.0       0.99      0.97      0.98       702\n",
      "        6.0       0.99      0.98      0.99       785\n",
      "        7.0       0.98      0.98      0.98       893\n",
      "        8.0       0.96      0.99      0.97       835\n",
      "        9.0       0.98      0.97      0.98       838\n",
      "\n",
      "avg / total       0.98      0.98      0.98      8400\n",
      "\n"
     ]
    }
   ],
   "source": [
    "from sklearn.metrics import classification_report\n",
    "print(classification_report(y_val, pred_val))"
   ]
  },
  {
   "cell_type": "code",
   "execution_count": 21,
   "metadata": {},
   "outputs": [
    {
     "name": "stdout",
     "output_type": "stream",
     "text": [
      "[[806   0   1   0   1   0   4   0   4   0]\n",
      " [  0 895   5   1   5   0   1   0   2   0]\n",
      " [  2   2 831   2   4   0   0   1   4   0]\n",
      " [  1   2   3 915   0   3   0   6   6   1]\n",
      " [  2   1   0   0 824   0   2   1   0   9]\n",
      " [  2   0   0   8   3 683   1   0   5   0]\n",
      " [  7   1   0   0   1   1 771   0   4   0]\n",
      " [  0   4   9   3   0   2   0 872   2   1]\n",
      " [  2   1   1   1   2   1   0   1 824   2]\n",
      " [  3   1   0   1   5   1   0   7   8 812]]\n"
     ]
    }
   ],
   "source": [
    "from sklearn.metrics import confusion_matrix\n",
    "print(confusion_matrix(y_val, pred_val))"
   ]
  },
  {
   "cell_type": "markdown",
   "metadata": {},
   "source": [
    "## Предсказания на тестовыйх данных"
   ]
  },
  {
   "cell_type": "code",
   "execution_count": 22,
   "metadata": {},
   "outputs": [
    {
     "name": "stdout",
     "output_type": "stream",
     "text": [
      "27936/28000 [============================>.] - ETA: 0s"
     ]
    }
   ],
   "source": [
    "pred_test = model.predict_classes(test_img)"
   ]
  },
  {
   "cell_type": "markdown",
   "metadata": {},
   "source": [
    "## Визуализируем предсказания"
   ]
  },
  {
   "cell_type": "code",
   "execution_count": 23,
   "metadata": {},
   "outputs": [
    {
     "data": {
      "image/png": "[encoded data removed]",
      "text/plain": [
       "<matplotlib.figure.Figure at 0x1a2024d2eb8>"
      ]
     },
     "metadata": {},
     "output_type": "display_data"
    }
   ],
   "source": [
    "fig = plt.figure(figsize=(20, 10))\n",
    "for i, img in enumerate(test_img[0:5], 1):\n",
    "    subplot = fig.add_subplot(1, 7, i)\n",
    "    plt.imshow(img[:,:,0], cmap='gray');\n",
    "    subplot.set_title('%s' % pred_test[i - 1]);"
   ]
  },
  {
   "cell_type": "markdown",
   "metadata": {},
   "source": [
    "## Готовим файл для отправки"
   ]
  },
  {
   "cell_type": "code",
   "execution_count": 24,
   "metadata": {
    "collapsed": true
   },
   "outputs": [],
   "source": [
    "with open('submit.txt', 'w') as dst:\n",
    "    dst.write('ImageId,Label\\n')\n",
    "    for i, p in enumerate(pred_test, 1):\n",
    "        dst.write('%s,%s\\n' % (i, p))"
   ]
  },
  {
   "cell_type": "code",
   "execution_count": null,
   "metadata": {
    "collapsed": true
   },
   "outputs": [],
   "source": [
    "score 0.97814"
   ]
  }
 ],
 "metadata": {
  "kernelspec": {
   "display_name": "Python 3",
   "language": "python",
   "name": "python3"
  },
  "language_info": {
   "codemirror_mode": {
    "name": "ipython",
    "version": 3
   },
   "file_extension": ".py",
   "mimetype": "text/x-python",
   "name": "python",
   "nbconvert_exporter": "python",
   "pygments_lexer": "ipython3",
   "version": "3.6.1"
  }
 },
 "nbformat": 4,
 "nbformat_minor": 2
}
